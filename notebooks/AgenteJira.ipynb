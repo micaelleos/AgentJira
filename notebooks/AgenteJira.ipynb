{
 "cells": [
  {
   "cell_type": "code",
   "execution_count": 4,
   "metadata": {},
   "outputs": [
    {
     "ename": "ModuleNotFoundError",
     "evalue": "No module named 'pydantic'",
     "output_type": "error",
     "traceback": [
      "\u001b[1;31m---------------------------------------------------------------------------\u001b[0m",
      "\u001b[1;31mModuleNotFoundError\u001b[0m                       Traceback (most recent call last)",
      "Cell \u001b[1;32mIn[4], line 3\u001b[0m\n\u001b[0;32m      1\u001b[0m \u001b[38;5;28;01mimport\u001b[39;00m \u001b[38;5;21;01mos\u001b[39;00m\n\u001b[0;32m      2\u001b[0m \u001b[38;5;28;01mimport\u001b[39;00m \u001b[38;5;21;01mtime\u001b[39;00m\n\u001b[1;32m----> 3\u001b[0m \u001b[38;5;28;01mfrom\u001b[39;00m \u001b[38;5;21;01mpydantic\u001b[39;00m \u001b[38;5;28;01mimport\u001b[39;00m BaseModel, Field\n\u001b[0;32m      4\u001b[0m \u001b[38;5;28;01mfrom\u001b[39;00m \u001b[38;5;21;01mtyping\u001b[39;00m \u001b[38;5;28;01mimport\u001b[39;00m List, Literal, Optional\n\u001b[0;32m      5\u001b[0m \u001b[38;5;28;01mfrom\u001b[39;00m \u001b[38;5;21;01matlassian\u001b[39;00m \u001b[38;5;28;01mimport\u001b[39;00m Jira\n",
      "\u001b[1;31mModuleNotFoundError\u001b[0m: No module named 'pydantic'"
     ]
    }
   ],
   "source": [
    "import os\n",
    "import time\n",
    "from pydantic import BaseModel, Field\n",
    "from typing import List, Literal, Optional\n",
    "from atlassian import Jira\n",
    "from langchain.agents import tool\n",
    "from langchain_core.tools import StructuredTool,BaseTool\n",
    "from langchain.memory import ConversationBufferMemory\n",
    "from langchain.agents import AgentExecutor\n",
    "from langchain.agents.format_scratchpad import format_to_openai_functions\n",
    "from langchain.agents.output_parsers import OpenAIFunctionsAgentOutputParser\n",
    "from langchain.tools.render import format_tool_to_openai_function\n",
    "from langchain.prompts import ChatPromptTemplate\n",
    "from langchain.chat_models import ChatOpenAI\n",
    "from langchain.prompts import MessagesPlaceholder\n",
    "from langchain.schema.runnable import RunnablePassthrough"
   ]
  },
  {
   "cell_type": "markdown",
   "metadata": {},
   "source": [
    "## Jira API"
   ]
  },
  {
   "cell_type": "code",
   "execution_count": null,
   "metadata": {},
   "outputs": [],
   "source": [
    "from atlassian import Jira"
   ]
  },
  {
   "cell_type": "code",
   "execution_count": null,
   "metadata": {},
   "outputs": [],
   "source": [
    "JIRA_INSTANCE_URL = \"https://micaelleosouza.atlassian.net/\"\n",
    "USER_NAME ='micaelle.oliveira10@hotmail.com'\n",
    "PASSWORD ='ATATT3xFfGF05BbX6A-oX4NTTUhQ5Zo0ZUhk5YfNBdJibEDdSFsOEP9uKLZ3r9LReJLtjqsaLOeeJ46sRLDMAfAPFrE0YwLYReeznj0WdUEYfFtvZA5O6FNfoWibqQomzZQECbEQKuVZZ9qCfaLVJ3NH6i0jr29TeQ7ntA-Tx411wNz6WNfIj4o=02F8FBA7'"
   ]
  },
  {
   "cell_type": "code",
   "execution_count": null,
   "metadata": {},
   "outputs": [],
   "source": [
    "jira = Jira(\n",
    "    url=JIRA_INSTANCE_URL,\n",
    "    username=USER_NAME,\n",
    "    password= PASSWORD,\n",
    "    cloud=True)"
   ]
  },
  {
   "cell_type": "code",
   "execution_count": null,
   "metadata": {},
   "outputs": [],
   "source": [
    "# Get all projects\n",
    "# Returns all projects which are visible for the currently logged in user.\n",
    "#jira.projects(included_archived=None, expand=None)\n",
    "\n",
    "# Get project\n",
    "#jira.project(key, expand=None)\n",
    "\n",
    "# Get issue by key\n",
    "#jira.issue(key)\n",
    "\n",
    "# Update issue field\n",
    "#fields = {'summary': 'New summary'}\n",
    "#jira.update_issue_field(key, fields, notify_users=True)\n",
    "\n",
    "# Create issue\n",
    "#jira.issue_create(fields) #{{\"summary\": \"test issue\", \"description\": \"test description\", \"issuetype\": {{\"name\": \"Task\"}}, \"priority\": {{\"name\": \"Low\"}}}}\n",
    "\n",
    "# Issues within an Epic\n",
    "#jira.epic_issues(epic_key)\n",
    "\n",
    "# Returns all epics from the board, for the given board Id.\n",
    "# This only includes epics that the user has permission to view.\n",
    "# Note, if the user does not have permission to view the board, no epics will be returned at all.\n",
    "#jira.get_epics(board_id, done=False, start=0, limit=50, )\n"
   ]
  },
  {
   "cell_type": "code",
   "execution_count": null,
   "metadata": {},
   "outputs": [],
   "source": [
    "fields = {\n",
    "       \"project\":\n",
    "       {\n",
    "          \"key\": \"GENAIT\"\n",
    "       },\n",
    "       \"summary\": \"Teste de criação de isssue por função\",\n",
    "       \"description\": \"estou testando a criação do isso do jira por meio da biblioteca do python\",\n",
    "       \"issuetype\": {\n",
    "          \"name\": \"Story\"\n",
    "       }\n",
    "   }\n",
    "\n",
    "\n",
    "# Create issue\n",
    "jira.issue_create(fields)"
   ]
  },
  {
   "cell_type": "markdown",
   "metadata": {},
   "source": [
    "## AgentJira"
   ]
  },
  {
   "cell_type": "code",
   "execution_count": 3,
   "metadata": {},
   "outputs": [
    {
     "ename": "ModuleNotFoundError",
     "evalue": "No module named 'pydantic'",
     "output_type": "error",
     "traceback": [
      "\u001b[1;31m---------------------------------------------------------------------------\u001b[0m",
      "\u001b[1;31mModuleNotFoundError\u001b[0m                       Traceback (most recent call last)",
      "Cell \u001b[1;32mIn[3], line 1\u001b[0m\n\u001b[1;32m----> 1\u001b[0m \u001b[38;5;28;01mfrom\u001b[39;00m \u001b[38;5;21;01mpydantic\u001b[39;00m \u001b[38;5;28;01mimport\u001b[39;00m BaseModel\n\u001b[0;32m      2\u001b[0m \u001b[38;5;28;01mfrom\u001b[39;00m \u001b[38;5;21;01mtyping\u001b[39;00m \u001b[38;5;28;01mimport\u001b[39;00m List, Literal, Optional\n",
      "\u001b[1;31mModuleNotFoundError\u001b[0m: No module named 'pydantic'"
     ]
    }
   ],
   "source": [
    "from pydantic import BaseModel\n",
    "from typing import List, Literal, Optional"
   ]
  },
  {
   "cell_type": "code",
   "execution_count": null,
   "metadata": {},
   "outputs": [],
   "source": [
    "class IssueJira(BaseModel):\n",
    "    project: str = Field(description=\"nome do projeto onde será criado o issue\")\n",
    "    title: str = Field(description=\"Nome do issue, em frase resumida com até 4 palavras\")\n",
    "    description: str = Field(description=\"descrição do issue.\")\n",
    "    issuetype: Literal['Task', 'Story', 'Epic'] =  Field(description=\"Tipo do issue a ser criado\")\n",
    "    #priority: Literal['Highest', 'High', 'Medium','Low','Lowest'] = Field(description=\"An issue's priority indicates its relative importance. \")\n",
    "\n",
    "@tool(args_schema=IssueJira)\n",
    "def criar_issue_Jira(**dict_info:IssueJira) -> dict:\n",
    "    \"\"\"Chame essa função para criar issues no Jira\"\"\"\n",
    "    fields = {\n",
    "        \"project\":\n",
    "        {\n",
    "            \"key\": dict_info[\"project\"]\n",
    "        },\n",
    "        \"summary\": dict_info[\"title\"],\n",
    "        \"description\": dict_info[\"description\"],\n",
    "        \"issuetype\": {\n",
    "            \"name\": dict_info[\"issuetype\"]\n",
    "        }\n",
    "        }\n",
    "    \n",
    "    try:    # Create issue\n",
    "        jira = config_jira()\n",
    "        result = jira.issue_create(fields)\n",
    "        print(result)\n",
    "    except Exception as e:\n",
    "        print(e)\n",
    "        if type(e).__name__ in ['MissingSchema','NameError']:\n",
    "            return \"Aconteceu um erro ao enviar o issue ao Jira. O usuário não configurou as credenciais da sua conta do Jira\"\n",
    "        else:\n",
    "            return f\"Aconteceu o erro {type(e).__name__} ao enviar o issue ao Jira\"\n",
    "    \n",
    "    return result\n",
    "\n",
    "tools = [criar_issue_Jira]"
   ]
  },
  {
   "cell_type": "code",
   "execution_count": null,
   "metadata": {},
   "outputs": [],
   "source": [
    "prompt = ChatPromptTemplate.from_messages([\n",
    "    (\"system\", \"\"\"Você é um especialista em documentação funcional e em Jira.\n",
    "    Você escreve todo tipo de documentação funcional com base na orientação do usuário.\n",
    "    Você ajuda ao usuário, em uma jornada, para criar doumentações funcionais desde do nível macro ao micro.\n",
    "    Quando a documentação estiver a nível de storys, você pode enviálas ao jira, se o usuário solicitar.\n",
    "    Caso seja solicitado essas informações devem ser enviadas ao Jira.\n",
    "    Você não pode inventar o nome do projeto do Jira.\n",
    "    Caso o usuário não informe o nome do projeto, você deve avisá-lo que ele deve adicionar o nome do projeto do jira, para que você possa criar o issue.\n",
    "    Ao criar um issue você deve me avisar qual é o id e a Key do issue, assim como o link para que eu possa abrir-lo no Jira\n",
    "    Para casos de escrita de de histórias/Storys, você deve utilizar o formato BDD, com cenários e critérios de aceite.\n",
    "    As storys precisam ter formatação markdown na sua descrição.\n",
    "     \"\"\"),\n",
    "    MessagesPlaceholder(variable_name=\"chat_history\"),\n",
    "    (\"user\", \"{input}\"),\n",
    "    MessagesPlaceholder(variable_name=\"agent_scratchpad\")\n",
    "])"
   ]
  },
  {
   "cell_type": "code",
   "execution_count": null,
   "metadata": {},
   "outputs": [],
   "source": [
    "OPENAI_API_KEY = os.environ['OPEN_API_KEY']\n",
    "\n",
    "model = ChatOpenAI(openai_api_key=OPENAI_API_KEY,temperature=0.5)\n",
    "\n",
    "model_jira_with_tool = model.bind(functions=[format_tool_to_openai_function(criar_issue_Jira)])"
   ]
  },
  {
   "cell_type": "code",
   "execution_count": null,
   "metadata": {},
   "outputs": [],
   "source": [
    "agent_chain = RunnablePassthrough.assign(\n",
    "    agent_scratchpad= lambda x: format_to_openai_functions(x[\"intermediate_steps\"])\n",
    ") | prompt | model_jira_with_tool | OpenAIFunctionsAgentOutputParser()"
   ]
  },
  {
   "cell_type": "code",
   "execution_count": null,
   "metadata": {},
   "outputs": [],
   "source": [
    "memory = ConversationBufferMemory(return_messages=True,memory_key=\"chat_history\")"
   ]
  },
  {
   "cell_type": "code",
   "execution_count": null,
   "metadata": {},
   "outputs": [],
   "source": [
    "agent_executor = AgentExecutor(agent=agent_chain, tools=[criar_issue_Jira], verbose=True, memory=memory)"
   ]
  }
 ],
 "metadata": {
  "kernelspec": {
   "display_name": "myenv",
   "language": "python",
   "name": "python3"
  },
  "language_info": {
   "codemirror_mode": {
    "name": "ipython",
    "version": 3
   },
   "file_extension": ".py",
   "mimetype": "text/x-python",
   "name": "python",
   "nbconvert_exporter": "python",
   "pygments_lexer": "ipython3",
   "version": "3.11.3"
  }
 },
 "nbformat": 4,
 "nbformat_minor": 2
}
