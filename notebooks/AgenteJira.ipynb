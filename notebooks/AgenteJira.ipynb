{
 "cells": [
  {
   "cell_type": "code",
   "execution_count": 32,
   "metadata": {},
   "outputs": [],
   "source": [
    "import os\n",
    "import time\n",
    "from pydantic import BaseModel, Field\n",
    "from typing import List, Literal, Optional\n",
    "from atlassian import Jira\n",
    "from langchain.agents import tool\n",
    "from langchain_core.tools import StructuredTool,BaseTool\n",
    "from langchain.memory import ConversationBufferMemory\n",
    "from langchain.agents import AgentExecutor\n",
    "from langchain.agents.format_scratchpad import format_to_openai_functions\n",
    "from langchain.agents.output_parsers import OpenAIFunctionsAgentOutputParser\n",
    "from langchain.tools.render import format_tool_to_openai_function\n",
    "from langchain.prompts import ChatPromptTemplate\n",
    "from langchain.chat_models import ChatOpenAI\n",
    "from langchain.prompts import MessagesPlaceholder\n",
    "from langchain.schema.runnable import RunnablePassthrough\n",
    "from langchain.memory.chat_message_histories import DynamoDBChatMessageHistory"
   ]
  },
  {
   "cell_type": "markdown",
   "metadata": {},
   "source": [
    "## Jira API"
   ]
  },
  {
   "cell_type": "code",
   "execution_count": 33,
   "metadata": {},
   "outputs": [],
   "source": [
    "from atlassian import Jira"
   ]
  },
  {
   "cell_type": "code",
   "execution_count": 34,
   "metadata": {},
   "outputs": [],
   "source": [
    "JIRA_INSTANCE_URL = \"https://micaelleosouza.atlassian.net/\"\n",
    "USER_NAME ='micaelle.oliveira10@hotmail.com'\n",
    "PASSWORD ='ATATT3xFfGF05BbX6A-oX4NTTUhQ5Zo0ZUhk5YfNBdJibEDdSFsOEP9uKLZ3r9LReJLtjqsaLOeeJ46sRLDMAfAPFrE0YwLYReeznj0WdUEYfFtvZA5O6FNfoWibqQomzZQECbEQKuVZZ9qCfaLVJ3NH6i0jr29TeQ7ntA-Tx411wNz6WNfIj4o=02F8FBA7'"
   ]
  },
  {
   "cell_type": "code",
   "execution_count": 35,
   "metadata": {},
   "outputs": [],
   "source": [
    "def config_jira():\n",
    "    jira = Jira(\n",
    "    url=JIRA_INSTANCE_URL,\n",
    "    username=USER_NAME,\n",
    "    password= PASSWORD,\n",
    "    cloud=True)\n",
    "    return jira \n",
    "\n",
    "jira = Jira(\n",
    "    url=JIRA_INSTANCE_URL,\n",
    "    username=USER_NAME,\n",
    "    password= PASSWORD,\n",
    "    cloud=True)"
   ]
  },
  {
   "cell_type": "code",
   "execution_count": 36,
   "metadata": {},
   "outputs": [],
   "source": [
    "# Get all projects\n",
    "# Returns all projects which are visible for the currently logged in user.\n",
    "#jira.projects(included_archived=None, expand=None)\n",
    "\n",
    "# Get project\n",
    "#jira.project(key, expand=None)\n",
    "\n",
    "# Get issue by key\n",
    "#jira.issue(key)\n",
    "\n",
    "# Update issue field\n",
    "#fields = {'summary': 'New summary'}\n",
    "#jira.update_issue_field(key, fields, notify_users=True)\n",
    "\n",
    "# Create issue\n",
    "#jira.issue_create(fields) #{{\"summary\": \"test issue\", \"description\": \"test description\", \"issuetype\": {{\"name\": \"Task\"}}, \"priority\": {{\"name\": \"Low\"}}}}\n",
    "\n",
    "# Issues within an Epic\n",
    "#jira.epic_issues(epic_key)\n",
    "\n",
    "# Returns all epics from the board, for the given board Id.\n",
    "# This only includes epics that the user has permission to view.\n",
    "# Note, if the user does not have permission to view the board, no epics will be returned at all.\n",
    "#jira.get_epics(board_id, done=False, start=0, limit=50, )\n"
   ]
  },
  {
   "cell_type": "code",
   "execution_count": 37,
   "metadata": {},
   "outputs": [
    {
     "name": "stderr",
     "output_type": "stream",
     "text": [
      "Creating issue \"Teste de criação de isssue por função\"\n"
     ]
    },
    {
     "data": {
      "text/plain": [
       "{'id': '10169',\n",
       " 'key': 'GENAIT-153',\n",
       " 'self': 'https://micaelleosouza.atlassian.net/rest/api/2/issue/10169'}"
      ]
     },
     "execution_count": 37,
     "metadata": {},
     "output_type": "execute_result"
    }
   ],
   "source": [
    "fields = {\n",
    "       \"project\":\n",
    "       {\n",
    "          \"key\": \"GENAIT\"\n",
    "       },\n",
    "       \"summary\": \"Teste de criação de isssue por função\",\n",
    "       \"description\": \"estou testando a criação do isso do jira por meio da biblioteca do python\",\n",
    "       \"issuetype\": {\n",
    "          \"name\": \"Story\"\n",
    "       }\n",
    "   }\n",
    "\n",
    "\n",
    "# Create issue\n",
    "jira.issue_create(fields)"
   ]
  },
  {
   "cell_type": "markdown",
   "metadata": {},
   "source": [
    "## AgentJira"
   ]
  },
  {
   "cell_type": "code",
   "execution_count": 38,
   "metadata": {},
   "outputs": [],
   "source": [
    "from pydantic import BaseModel\n",
    "from typing import List, Literal, Optional"
   ]
  },
  {
   "cell_type": "code",
   "execution_count": 39,
   "metadata": {},
   "outputs": [],
   "source": [
    "class IssueJira(BaseModel):\n",
    "    project: str = Field(description=\"nome do projeto onde será criado o issue\")\n",
    "    title: str = Field(description=\"Nome do issue, em frase resumida com até 4 palavras\")\n",
    "    description: str = Field(description=\"descrição do issue.\")\n",
    "    issuetype: Literal['Task', 'Story', 'Epic'] =  Field(description=\"Tipo do issue a ser criado\")\n",
    "    #priority: Literal['Highest', 'High', 'Medium','Low','Lowest'] = Field(description=\"An issue's priority indicates its relative importance. \")\n",
    "\n",
    "def generate_tools_for_user(session_id: str) -> List[BaseTool]:\n",
    "    \"\"\"Generate a set of tools that have a user id associated with them.\"\"\"\n",
    "\n",
    "    @tool(args_schema=IssueJira)\n",
    "    def criar_issue_Jira(**dict_info:IssueJira) -> dict:\n",
    "        \"\"\"Chame essa função para criar issues no Jira\"\"\"\n",
    "        fields = {\n",
    "            \"project\":\n",
    "            {\n",
    "                \"key\": dict_info[\"project\"]\n",
    "            },\n",
    "            \"summary\": dict_info[\"title\"],\n",
    "            \"description\": dict_info[\"description\"],\n",
    "            \"issuetype\": {\n",
    "                \"name\": dict_info[\"issuetype\"]\n",
    "            }\n",
    "            }\n",
    "        \n",
    "        try:    # Create issue\n",
    "            jira = config_jira()\n",
    "            result = jira.issue_create(fields)\n",
    "            print(result)\n",
    "        except Exception as e:\n",
    "            print(e)\n",
    "            if type(e).__name__ in ['MissingSchema','NameError']:\n",
    "                return \"Aconteceu um erro ao enviar o issue ao Jira. O usuário não configurou as credenciais da sua conta do Jira\"\n",
    "            else:\n",
    "                return f\"Aconteceu o erro {type(e).__name__} ao enviar o issue ao Jira\"\n",
    "        \n",
    "        return result\n",
    "    \n",
    "    return criar_issue_Jira\n"
   ]
  },
  {
   "cell_type": "code",
   "execution_count": 40,
   "metadata": {},
   "outputs": [],
   "source": [
    "id ='2'\n",
    "criar_issue_Jira = generate_tools_for_user(id)"
   ]
  },
  {
   "cell_type": "code",
   "execution_count": 41,
   "metadata": {},
   "outputs": [],
   "source": [
    "prompt = ChatPromptTemplate.from_messages([\n",
    "    (\"system\", \"\"\"Você é um especialista em documentação funcional e em Jira.\n",
    "    Você escreve todo tipo de documentação funcional com base na orientação do usuário.\n",
    "    Você ajuda ao usuário, em uma jornada, para criar doumentações funcionais desde do nível macro ao micro.\n",
    "    Quando a documentação estiver a nível de storys, você pode enviálas ao jira, se o usuário solicitar.\n",
    "    Caso seja solicitado essas informações devem ser enviadas ao Jira.\n",
    "    Você não pode inventar o nome do projeto do Jira.\n",
    "    Caso o usuário não informe o nome do projeto, você deve avisá-lo que ele deve adicionar o nome do projeto do jira, para que você possa criar o issue.\n",
    "    Ao criar um issue você deve me avisar qual é o id e a Key do issue, assim como o link para que eu possa abrir-lo no Jira\n",
    "    Para casos de escrita de de histórias/Storys, você deve utilizar o formato BDD, com cenários e critérios de aceite.\n",
    "    As storys precisam ter formatação markdown na sua descrição.\n",
    "     \"\"\"),\n",
    "    MessagesPlaceholder(variable_name=\"chat_history\"),\n",
    "    (\"user\", \"{input}\"),\n",
    "    MessagesPlaceholder(variable_name=\"agent_scratchpad\")\n",
    "])"
   ]
  },
  {
   "cell_type": "code",
   "execution_count": 42,
   "metadata": {},
   "outputs": [],
   "source": [
    "OPENAI_API_KEY = os.environ['OPEN_API_KEY']\n",
    "\n",
    "model = ChatOpenAI(openai_api_key=OPENAI_API_KEY,temperature=0.5)\n",
    "\n",
    "model_jira_with_tool = model.bind(functions=[format_tool_to_openai_function(criar_issue_Jira)])"
   ]
  },
  {
   "cell_type": "code",
   "execution_count": 43,
   "metadata": {},
   "outputs": [],
   "source": [
    "agent_chain = RunnablePassthrough.assign(\n",
    "    agent_scratchpad= lambda x: format_to_openai_functions(x[\"intermediate_steps\"])\n",
    ") | prompt | model_jira_with_tool | OpenAIFunctionsAgentOutputParser()"
   ]
  },
  {
   "cell_type": "code",
   "execution_count": 44,
   "metadata": {},
   "outputs": [],
   "source": [
    "conversation_table_name = \"JiraSessionTable\"\n",
    "message_history = DynamoDBChatMessageHistory(table_name=conversation_table_name, session_id=id)\n",
    "memory= ConversationBufferMemory(return_messages=True,memory_key=\"chat_history\",chat_memory=message_history)"
   ]
  },
  {
   "cell_type": "code",
   "execution_count": 45,
   "metadata": {},
   "outputs": [],
   "source": [
    "agent_executor = AgentExecutor(agent=agent_chain, tools=[criar_issue_Jira], verbose=True, memory=memory)"
   ]
  },
  {
   "cell_type": "code",
   "execution_count": 46,
   "metadata": {},
   "outputs": [
    {
     "name": "stdout",
     "output_type": "stream",
     "text": [
      "\n",
      "\n",
      "\u001b[1m> Entering new AgentExecutor chain...\u001b[0m\n",
      "\u001b[32;1m\u001b[1;3mOlá! Posso te ajudar a criar documentações funcionais e também a enviar histórias (storys) para o Jira, se necessário. Como posso te auxiliar hoje?\u001b[0m\n",
      "\n",
      "\u001b[1m> Finished chain.\u001b[0m\n"
     ]
    },
    {
     "data": {
      "text/plain": [
       "{'input': 'olá, como voê pode me ajudar?',\n",
       " 'chat_history': [HumanMessage(content='olá, como voê pode me ajudar?'),\n",
       "  AIMessage(content='Olá! Posso te ajudar a criar documentações funcionais e também a enviar histórias (storys) para o Jira, se necessário. Como posso te auxiliar hoje?'),\n",
       "  HumanMessage(content='crie uma story teste e envie ao jira'),\n",
       "  AIMessage(content='Claro! Para criar uma story de teste, preciso de algumas informações. Por favor, forneça o nome do projeto do Jira onde deseja criar a story.'),\n",
       "  HumanMessage(content='O nome do projeto é GENAIT'),\n",
       "  AIMessage(content='Desculpe, parece que ocorreu um erro ao tentar enviar a story para o Jira. Para que eu possa criar o issue, você precisará configurar suas credenciais da conta do Jira. Uma vez configuradas, posso criar a story de teste para você. Por favor, me avise quando estiver pronto para continuar.')],\n",
       " 'output': 'Olá! Posso te ajudar a criar documentações funcionais e também a enviar histórias (storys) para o Jira, se necessário. Como posso te auxiliar hoje?'}"
      ]
     },
     "execution_count": 46,
     "metadata": {},
     "output_type": "execute_result"
    }
   ],
   "source": [
    "agent_executor.invoke({\"input\":\"olá, como voê pode me ajudar?\"})"
   ]
  },
  {
   "cell_type": "code",
   "execution_count": 47,
   "metadata": {},
   "outputs": [
    {
     "name": "stdout",
     "output_type": "stream",
     "text": [
      "\n",
      "\n",
      "\u001b[1m> Entering new AgentExecutor chain...\u001b[0m\n"
     ]
    },
    {
     "name": "stderr",
     "output_type": "stream",
     "text": [
      "Creating issue \"Criar story de teste\"\n"
     ]
    },
    {
     "name": "stdout",
     "output_type": "stream",
     "text": [
      "\u001b[32;1m\u001b[1;3m\n",
      "Invoking: `criar_issue_Jira` with `{'project': 'GENAIT', 'title': 'Criar story de teste', 'description': '# Story de Teste\\n\\n## Cenários:\\n\\n- Dado que o usuário acessa a página de login\\n  - Quando ele insere suas credenciais corretas\\n  - Então ele deve ser redirecionado para a página inicial\\n\\n## Critérios de Aceitação:\\n\\n- A página de login deve ter um campo para inserir o nome de usuário e senha\\n- A autenticação deve ser validada no backend\\n- O redirecionamento para a página inicial deve ser feito com sucesso\\n', 'issuetype': 'Story'}`\n",
      "responded: Claro! Vamos criar uma story de teste e enviá-la para o Jira. Por favor, forneça as informações necessárias para a criação da story.\n",
      "\n",
      "\u001b[0m{'id': '10170', 'key': 'GENAIT-154', 'self': 'https://micaelleosouza.atlassian.net/rest/api/2/issue/10170'}\n",
      "\u001b[36;1m\u001b[1;3m{'id': '10170', 'key': 'GENAIT-154', 'self': 'https://micaelleosouza.atlassian.net/rest/api/2/issue/10170'}\u001b[0m\u001b[32;1m\u001b[1;3mA story de teste foi criada com sucesso no Jira! Aqui estão os detalhes do issue:\n",
      "- ID: 10170\n",
      "- Key: GENAIT-154\n",
      "- [Link para o issue no Jira](https://micaelleosouza.atlassian.net/browse/GENAIT-154)\n",
      "\n",
      "Você pode acessar o link acima para visualizar a story no Jira. Se precisar de mais alguma coisa, estou à disposição!\u001b[0m\n",
      "\n",
      "\u001b[1m> Finished chain.\u001b[0m\n"
     ]
    },
    {
     "data": {
      "text/plain": [
       "{'input': 'crie uma story teste e envie ao jira',\n",
       " 'chat_history': [HumanMessage(content='olá, como voê pode me ajudar?'),\n",
       "  AIMessage(content='Olá! Posso te ajudar a criar documentações funcionais e também a enviar histórias (storys) para o Jira, se necessário. Como posso te auxiliar hoje?'),\n",
       "  HumanMessage(content='crie uma story teste e envie ao jira'),\n",
       "  AIMessage(content='Claro! Para criar uma story de teste, preciso de algumas informações. Por favor, forneça o nome do projeto do Jira onde deseja criar a story.'),\n",
       "  HumanMessage(content='O nome do projeto é GENAIT'),\n",
       "  AIMessage(content='Desculpe, parece que ocorreu um erro ao tentar enviar a story para o Jira. Para que eu possa criar o issue, você precisará configurar suas credenciais da conta do Jira. Uma vez configuradas, posso criar a story de teste para você. Por favor, me avise quando estiver pronto para continuar.'),\n",
       "  HumanMessage(content='olá, como voê pode me ajudar?'),\n",
       "  AIMessage(content='Olá! Posso te ajudar a criar documentações funcionais e também a enviar histórias (storys) para o Jira, se necessário. Como posso te auxiliar hoje?')],\n",
       " 'output': 'A story de teste foi criada com sucesso no Jira! Aqui estão os detalhes do issue:\\n- ID: 10170\\n- Key: GENAIT-154\\n- [Link para o issue no Jira](https://micaelleosouza.atlassian.net/browse/GENAIT-154)\\n\\nVocê pode acessar o link acima para visualizar a story no Jira. Se precisar de mais alguma coisa, estou à disposição!'}"
      ]
     },
     "execution_count": 47,
     "metadata": {},
     "output_type": "execute_result"
    }
   ],
   "source": [
    "agent_executor.invoke({\"input\":\"crie uma story teste e envie ao jira\"})"
   ]
  },
  {
   "cell_type": "code",
   "execution_count": 48,
   "metadata": {},
   "outputs": [
    {
     "name": "stdout",
     "output_type": "stream",
     "text": [
      "\n",
      "\n",
      "\u001b[1m> Entering new AgentExecutor chain...\u001b[0m\n"
     ]
    },
    {
     "name": "stderr",
     "output_type": "stream",
     "text": [
      "Creating issue \"Criar story de teste\"\n"
     ]
    },
    {
     "name": "stdout",
     "output_type": "stream",
     "text": [
      "\u001b[32;1m\u001b[1;3m\n",
      "Invoking: `criar_issue_Jira` with `{'project': 'GENAIT', 'title': 'Criar story de teste', 'description': '## Story de Teste\\nComo um usuário\\nEu quero uma story de teste\\nPara verificar a integração com o Jira', 'issuetype': 'Story'}`\n",
      "\n",
      "\n",
      "\u001b[0m{'id': '10171', 'key': 'GENAIT-155', 'self': 'https://micaelleosouza.atlassian.net/rest/api/2/issue/10171'}\n",
      "\u001b[36;1m\u001b[1;3m{'id': '10171', 'key': 'GENAIT-155', 'self': 'https://micaelleosouza.atlassian.net/rest/api/2/issue/10171'}\u001b[0m\u001b[32;1m\u001b[1;3mA story de teste foi criada com sucesso no Jira! Aqui estão os detalhes do issue:\n",
      "- ID: 10171\n",
      "- Key: GENAIT-155\n",
      "- [Link para o issue no Jira](https://micaelleosouza.atlassian.net/browse/GENAIT-155)\n",
      "\n",
      "Você pode acessar o link acima para visualizar a story no Jira. Se precisar de mais alguma coisa, estou à disposição!\u001b[0m\n",
      "\n",
      "\u001b[1m> Finished chain.\u001b[0m\n"
     ]
    },
    {
     "data": {
      "text/plain": [
       "{'input': 'O nome do projeto é GENAIT',\n",
       " 'chat_history': [HumanMessage(content='olá, como voê pode me ajudar?'),\n",
       "  AIMessage(content='Olá! Posso te ajudar a criar documentações funcionais e também a enviar histórias (storys) para o Jira, se necessário. Como posso te auxiliar hoje?'),\n",
       "  HumanMessage(content='crie uma story teste e envie ao jira'),\n",
       "  AIMessage(content='Claro! Para criar uma story de teste, preciso de algumas informações. Por favor, forneça o nome do projeto do Jira onde deseja criar a story.'),\n",
       "  HumanMessage(content='O nome do projeto é GENAIT'),\n",
       "  AIMessage(content='Desculpe, parece que ocorreu um erro ao tentar enviar a story para o Jira. Para que eu possa criar o issue, você precisará configurar suas credenciais da conta do Jira. Uma vez configuradas, posso criar a story de teste para você. Por favor, me avise quando estiver pronto para continuar.'),\n",
       "  HumanMessage(content='olá, como voê pode me ajudar?'),\n",
       "  AIMessage(content='Olá! Posso te ajudar a criar documentações funcionais e também a enviar histórias (storys) para o Jira, se necessário. Como posso te auxiliar hoje?'),\n",
       "  HumanMessage(content='crie uma story teste e envie ao jira'),\n",
       "  AIMessage(content='A story de teste foi criada com sucesso no Jira! Aqui estão os detalhes do issue:\\n- ID: 10170\\n- Key: GENAIT-154\\n- [Link para o issue no Jira](https://micaelleosouza.atlassian.net/browse/GENAIT-154)\\n\\nVocê pode acessar o link acima para visualizar a story no Jira. Se precisar de mais alguma coisa, estou à disposição!')],\n",
       " 'output': 'A story de teste foi criada com sucesso no Jira! Aqui estão os detalhes do issue:\\n- ID: 10171\\n- Key: GENAIT-155\\n- [Link para o issue no Jira](https://micaelleosouza.atlassian.net/browse/GENAIT-155)\\n\\nVocê pode acessar o link acima para visualizar a story no Jira. Se precisar de mais alguma coisa, estou à disposição!'}"
      ]
     },
     "execution_count": 48,
     "metadata": {},
     "output_type": "execute_result"
    }
   ],
   "source": [
    "agent_executor.invoke({\"input\":\"O nome do projeto é GENAIT\"})"
   ]
  }
 ],
 "metadata": {
  "kernelspec": {
   "display_name": "myenv",
   "language": "python",
   "name": "python3"
  },
  "language_info": {
   "codemirror_mode": {
    "name": "ipython",
    "version": 3
   },
   "file_extension": ".py",
   "mimetype": "text/x-python",
   "name": "python",
   "nbconvert_exporter": "python",
   "pygments_lexer": "ipython3",
   "version": "3.11.3"
  }
 },
 "nbformat": 4,
 "nbformat_minor": 2
}
